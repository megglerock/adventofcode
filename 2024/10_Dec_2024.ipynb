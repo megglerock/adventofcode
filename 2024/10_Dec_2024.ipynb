{
  "nbformat": 4,
  "nbformat_minor": 0,
  "metadata": {
    "colab": {
      "provenance": [],
      "authorship_tag": "ABX9TyOnRxV0SlJz4G4LjzE+8N85"
    },
    "kernelspec": {
      "name": "python3",
      "display_name": "Python 3"
    },
    "language_info": {
      "name": "python"
    }
  },
  "cells": [
    {
      "cell_type": "code",
      "execution_count": null,
      "metadata": {
        "id": "ysi6n_Nz7g6n"
      },
      "outputs": [],
      "source": [
        "test_exp_ans_1 = 36\n",
        "test_exp_ans_2 = 81"
      ]
    },
    {
      "cell_type": "code",
      "source": [
        "# import data\n",
        "with open('/content/10_prod.txt') as f:\n",
        "    prod_dt_in = [line.strip('\\n') for line in f]\n",
        "    prod_data = [[int(i) for i in prod_dt_in[j]] for j in range(len(prod_dt_in))]\n",
        "with open('/content/10_test.txt') as f:\n",
        "    test_dt_in = [line.strip('\\n') for line in f]\n",
        "    test_data = [[int(i) for i in test_dt_in[j]] for j in range(len(test_dt_in))]"
      ],
      "metadata": {
        "id": "17mNKjvo78p8"
      },
      "execution_count": null,
      "outputs": []
    },
    {
      "cell_type": "markdown",
      "source": [
        "Part 1"
      ],
      "metadata": {
        "id": "wSKIv2tP79gM"
      }
    },
    {
      "cell_type": "code",
      "source": [
        "def part_1_list(input_data):\n",
        "\n",
        "  all_trailheads = []\n",
        "\n",
        "  # find trailheads\n",
        "  for m in range(len(input_data)):\n",
        "    for n in range(len(input_data[m])):\n",
        "      if input_data[m][n] == 0:\n",
        "        all_trailheads.append([m,n])\n",
        "\n",
        "  out_list = []\n",
        "\n",
        "  # loop through trailheads\n",
        "  for b in all_trailheads:\n",
        "    current_cells = [b]\n",
        "    current_val = 0\n",
        "    new_cells = []\n",
        "    while current_val < 9:\n",
        "      for a in current_cells:\n",
        "        x = a[0]\n",
        "        y = a[1]\n",
        "        get_next_numbers(input_data,new_cells,x-1,y,current_val)\n",
        "        get_next_numbers(input_data,new_cells,x+1,y,current_val)\n",
        "        get_next_numbers(input_data,new_cells,x,y-1,current_val)\n",
        "        get_next_numbers(input_data,new_cells,x,y+1,current_val)\n",
        "      current_cells = new_cells.copy()\n",
        "      current_val += 1\n",
        "      new_cells = []\n",
        "    out_list.append(current_cells)\n",
        "\n",
        "  return out_list"
      ],
      "metadata": {
        "id": "tO2ySmg3gilp"
      },
      "execution_count": null,
      "outputs": []
    },
    {
      "cell_type": "code",
      "source": [
        "def get_next_numbers(input_data,input_cells,input_x,input_y,input_val):\n",
        "  if input_x >= 0 and input_y >= 0:\n",
        "    try:\n",
        "      next_val = input_data[input_x][input_y]\n",
        "      if next_val == input_val + 1:\n",
        "        input_cells.append([input_x,input_y])\n",
        "    except:\n",
        "      nada = 0"
      ],
      "metadata": {
        "id": "lQ5355Sk8Gu5"
      },
      "execution_count": null,
      "outputs": []
    },
    {
      "cell_type": "code",
      "source": [
        "def part_1_ans(input_data):\n",
        "\n",
        "  all_trail_ends = part_1_list(input_data)\n",
        "\n",
        "  unique_trails = []\n",
        "\n",
        "  for i in all_trail_ends:\n",
        "    to_app = []\n",
        "    for j in i:\n",
        "      if j not in to_app:\n",
        "        to_app.append(j)\n",
        "    unique_trails.append(len(to_app))\n",
        "\n",
        "  return sum(unique_trails)"
      ],
      "metadata": {
        "id": "P3bE47cUlwen"
      },
      "execution_count": null,
      "outputs": []
    },
    {
      "cell_type": "code",
      "source": [
        "part_1_ans(test_data)"
      ],
      "metadata": {
        "id": "pdhalURTmWeH"
      },
      "execution_count": null,
      "outputs": []
    },
    {
      "cell_type": "code",
      "source": [
        "test_act_ans_1 = part_1_ans(test_data)\n",
        "if test_act_ans_1 == test_exp_ans_1:\n",
        "  print('Correct answer! ' + str(test_act_ans_1))\n",
        "else:\n",
        "  print('Incorrect answer :( ' + str(test_act_ans_1))"
      ],
      "metadata": {
        "id": "Tp1s2uZa7uiS"
      },
      "execution_count": null,
      "outputs": []
    },
    {
      "cell_type": "code",
      "source": [
        "part_1_ans(prod_data)"
      ],
      "metadata": {
        "id": "58hs4Ke7nxOZ"
      },
      "execution_count": null,
      "outputs": []
    },
    {
      "cell_type": "markdown",
      "source": [
        "Part 2"
      ],
      "metadata": {
        "id": "9wWqXYXqn8Lv"
      }
    },
    {
      "cell_type": "code",
      "source": [
        "def part_2_ans(input_data):\n",
        "\n",
        "  all_trail_ends = part_1_list(input_data)\n",
        "\n",
        "  all_trails = []\n",
        "\n",
        "  for i in all_trail_ends:\n",
        "    all_trails.append(len(i))\n",
        "\n",
        "  return sum(all_trails)"
      ],
      "metadata": {
        "id": "EIGERRk-oL1x"
      },
      "execution_count": null,
      "outputs": []
    },
    {
      "cell_type": "code",
      "source": [
        "test_act_ans_2 = part_2_ans(test_data)\n",
        "if test_act_ans_2 == test_exp_ans_2:\n",
        "  print('Correct answer! ' + str(test_act_ans_2))\n",
        "else:\n",
        "  print('Incorrect answer :( ' + str(test_act_ans_2))"
      ],
      "metadata": {
        "id": "vQJsl5U3oNhG"
      },
      "execution_count": null,
      "outputs": []
    },
    {
      "cell_type": "code",
      "source": [
        "part_2_ans(prod_data)"
      ],
      "metadata": {
        "id": "c4xvqYopowqp"
      },
      "execution_count": null,
      "outputs": []
    }
  ]
}