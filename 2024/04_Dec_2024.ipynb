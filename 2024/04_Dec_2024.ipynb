{
  "nbformat": 4,
  "nbformat_minor": 0,
  "metadata": {
    "colab": {
      "provenance": [],
      "authorship_tag": "ABX9TyOZLQBknh33MW9Gj3k0Or60"
    },
    "kernelspec": {
      "name": "python3",
      "display_name": "Python 3"
    },
    "language_info": {
      "name": "python"
    }
  },
  "cells": [
    {
      "cell_type": "markdown",
      "source": [
        "Part 1"
      ],
      "metadata": {
        "id": "-79sit9JvJal"
      }
    },
    {
      "cell_type": "code",
      "execution_count": null,
      "metadata": {
        "id": "3ftR5WmbvHck"
      },
      "outputs": [],
      "source": [
        "import csv\n",
        "data_lst = []\n",
        "with open('/content/04_test.txt', mode ='r') as f:\n",
        "       csvFile = csv.reader(f, delimiter='%')\n",
        "       for lines in csvFile:\n",
        "            data_lst.append(lines[0])"
      ]
    },
    {
      "cell_type": "code",
      "source": [
        "def get_w(input_list,a,b):\n",
        "  return input_list[a][b:b-4:-1]\n",
        "\n",
        "def get_nw(input_list,a,b):\n",
        "  return input_list[a][b]+input_list[a-1][b-1]+input_list[a-2][b-2]+input_list[a-3][b-3]\n",
        "\n",
        "def get_n(input_list,a,b):\n",
        "  return input_list[a][b]+input_list[a-1][b]+input_list[a-2][b]+input_list[a-3][b]\n",
        "\n",
        "def get_ne(input_list,a,b):\n",
        "  return input_list[a][b]+input_list[a-1][b+1]+input_list[a-2][b+2]+input_list[a-3][b+3]\n",
        "\n",
        "def get_e(input_list,a,b):\n",
        "  return input_list[a][b:b+4]\n",
        "\n",
        "def get_se(input_list,a,b):\n",
        "  return input_list[a][b]+input_list[a+1][b+1]+input_list[a+2][b+2]+input_list[a+3][b+3]\n",
        "\n",
        "def get_s(input_list,a,b):\n",
        "  return input_list[a][b]+input_list[a+1][b]+input_list[a+2][b]+input_list[a+3][b]\n",
        "\n",
        "def get_sw(input_list,a,b):\n",
        "  return input_list[a][b]+input_list[a+1][b-1]+input_list[a+2][b-2]+input_list[a+3][b-3]\n"
      ],
      "metadata": {
        "id": "_NOBVSJt2d94"
      },
      "execution_count": null,
      "outputs": []
    },
    {
      "cell_type": "code",
      "source": [
        "def get_strings(input_list,substr_list,a,b,rows_lt,cols_lt):\n",
        "  if b > 2:\n",
        "    substr_list.append(get_w(input_list,a,b))\n",
        "    if a > 2:\n",
        "      substr_list.append(get_nw(input_list,a,b))\n",
        "    if a < rows_lt:\n",
        "      substr_list.append(get_sw(input_list,a,b))\n",
        "  if a > 2:\n",
        "    substr_list.append(get_n(input_list,a,b))\n",
        "    if b < cols_lt:\n",
        "      substr_list.append(get_ne(input_list,a,b))\n",
        "  if b < cols_lt:\n",
        "    substr_list.append(get_e(input_list,a,b))\n",
        "    if a < rows_lt:\n",
        "      substr_list.append(get_se(input_list,a,b))\n",
        "  if a < rows_lt:\n",
        "    substr_list.append(get_s(input_list,a,b))\n",
        "\n",
        "  return substr_list"
      ],
      "metadata": {
        "id": "yYPdGY_mvcQn"
      },
      "execution_count": null,
      "outputs": []
    },
    {
      "cell_type": "code",
      "source": [
        "def loop_cells(input_list):\n",
        "  substr_list = []\n",
        "  no_rows = len(input_list)\n",
        "  no_cols = len(input_list[0])\n",
        "  rows_lt = no_rows - 3\n",
        "  cols_lt = no_cols - 3\n",
        "  for a in range(no_rows):\n",
        "    for b in range(no_cols):\n",
        "      if input_list[a][b] == 'X':\n",
        "        out_list = get_strings(data_lst,substr_list,a,b,rows_lt,cols_lt)\n",
        "  return out_list"
      ],
      "metadata": {
        "id": "Ba2Fdw2Ty0Y7"
      },
      "execution_count": null,
      "outputs": []
    },
    {
      "cell_type": "code",
      "source": [
        "list_x_words = loop_cells(data_lst)\n",
        "list_x_words.count('XMAS')"
      ],
      "metadata": {
        "id": "elRwgvuJ80C_"
      },
      "execution_count": null,
      "outputs": []
    },
    {
      "cell_type": "markdown",
      "source": [
        "Part 2"
      ],
      "metadata": {
        "id": "pHpFcNIuW3lv"
      }
    },
    {
      "cell_type": "code",
      "source": [
        "import csv\n",
        "data_lst = []\n",
        "with open('/content/04.txt', mode ='r') as f:\n",
        "       csvFile = csv.reader(f, delimiter='%')\n",
        "       for lines in csvFile:\n",
        "            data_lst.append(lines[0])\n",
        "            # print(lines[0])"
      ],
      "metadata": {
        "id": "djWWShaKW2un"
      },
      "execution_count": null,
      "outputs": []
    },
    {
      "cell_type": "code",
      "source": [
        "def get_tl_br(input_list,a,b):\n",
        "  return input_list[a-1][b-1]+input_list[a][b]+input_list[a+1][b+1]\n",
        "\n",
        "def get_tr_bl(input_list,a,b):\n",
        "  return input_list[a-1][b+1]+input_list[a][b]+input_list[a+1][b-1]"
      ],
      "metadata": {
        "id": "imCddKoyXEfv"
      },
      "execution_count": null,
      "outputs": []
    },
    {
      "cell_type": "code",
      "source": [
        "def find_mas(input_list):\n",
        "  counter = 0\n",
        "  no_rows = len(input_list)\n",
        "  no_cols = len(input_list[0])\n",
        "  for a in range(1,no_rows-1):\n",
        "    for b in range(1,no_cols-1):\n",
        "      if input_list[a][b] == 'A':\n",
        "        dir_1 = get_tl_br(input_list,a,b)\n",
        "        dir_2 = get_tr_bl(input_list,a,b)\n",
        "        if ( dir_1 == 'MAS' or dir_1 == 'SAM' ) and ( dir_2 == 'MAS' or dir_2 == 'SAM' ):\n",
        "          counter += 1\n",
        "  return counter"
      ],
      "metadata": {
        "id": "WKI5WfWIX0bA"
      },
      "execution_count": null,
      "outputs": []
    },
    {
      "cell_type": "code",
      "source": [
        "find_mas(data_lst)"
      ],
      "metadata": {
        "id": "QiJZtPtnYM4g"
      },
      "execution_count": null,
      "outputs": []
    }
  ]
}