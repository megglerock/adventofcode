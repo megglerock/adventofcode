{
  "nbformat": 4,
  "nbformat_minor": 0,
  "metadata": {
    "colab": {
      "provenance": [],
      "authorship_tag": "ABX9TyPMr7PiZ+BgNzqySL+g0KxF"
    },
    "kernelspec": {
      "name": "python3",
      "display_name": "Python 3"
    },
    "language_info": {
      "name": "python"
    }
  },
  "cells": [
    {
      "cell_type": "code",
      "execution_count": 109,
      "metadata": {
        "id": "eY2WXkpxznXj"
      },
      "outputs": [],
      "source": [
        "# import data outside for dev work\n",
        "with open('/content/06.txt') as f:\n",
        "    prod_data = [list(line.strip('\\n')) for line in f]\n",
        "with open('/content/06_test.txt') as f:\n",
        "    test_data = [list(line.strip('\\n')) for line in f]"
      ]
    },
    {
      "cell_type": "markdown",
      "source": [
        "Part 1"
      ],
      "metadata": {
        "id": "CwQen9i1zray"
      }
    },
    {
      "cell_type": "code",
      "source": [
        "def part_1(mode):\n",
        "\n",
        "  # import data inside to only give mode once\n",
        "  if mode == 'prod':\n",
        "    with open('/content/06.txt') as f:\n",
        "      input_data = [list(line.strip('\\n')) for line in f]\n",
        "  if mode == 'test':\n",
        "    with open('/content/06_test.txt') as f:\n",
        "      input_data = [list(line.strip('\\n')) for line in f]\n",
        "\n",
        "  # positions occupied\n",
        "  pos_list = []\n",
        "\n",
        "  # currently facing direction\n",
        "  dir = 'n'\n",
        "\n",
        "  # we are not yet out\n",
        "  we_are_out = False\n",
        "\n",
        "  # get initial position\n",
        "  for a in range(len(input_data)):\n",
        "    if '^' in input_data[a]:\n",
        "      row = a\n",
        "      col = input_data[a].index('^')\n",
        "      pos_list.append([row,col])\n",
        "\n",
        "  # get max row and col positions\n",
        "  max_row = len(input_data) - 1\n",
        "  max_col = len(input_data[0]) - 1\n",
        "\n",
        "  # force end while for testing\n",
        "  breaker = 0\n",
        "\n",
        "  # keep walking\n",
        "  while we_are_out == False:\n",
        "\n",
        "    # move north\n",
        "    if dir == 'n':\n",
        "      if row == 0:\n",
        "        we_are_out = True\n",
        "      else:\n",
        "        if input_data[row-1][col] == '#':\n",
        "          dir = 'e'\n",
        "        else:\n",
        "          row = row-1\n",
        "          pos_list.append([row,col])\n",
        "\n",
        "    # move east\n",
        "    if dir == 'e':\n",
        "      if col == max_col:\n",
        "        we_are_out = True\n",
        "      else:\n",
        "        if input_data[row][col+1] == '#':\n",
        "          dir = 's'\n",
        "        else:\n",
        "          col = col+1\n",
        "          pos_list.append([row,col])\n",
        "\n",
        "    # move south\n",
        "    if dir == 's':\n",
        "      if row == max_row:\n",
        "        we_are_out = True\n",
        "      else:\n",
        "        if input_data[row+1][col] == '#':\n",
        "          dir = 'w'\n",
        "        else:\n",
        "          row = row+1\n",
        "          pos_list.append([row,col])\n",
        "\n",
        "    # move west\n",
        "    if dir == 'w':\n",
        "      if col == 0:\n",
        "        we_are_out = True\n",
        "      else:\n",
        "        if input_data[row][col-1] == '#':\n",
        "          dir = 'n'\n",
        "        else:\n",
        "          col = col-1\n",
        "          pos_list.append([row,col])\n",
        "\n",
        "    # avoid eternal looping\n",
        "    breaker += 1\n",
        "    if breaker > 60 and mode == 'test':\n",
        "      break\n",
        "\n",
        "  # make the list distinct - gave up using subsets as cba\n",
        "  dist_pos_list = []\n",
        "  for x in pos_list:\n",
        "    if x not in dist_pos_list:\n",
        "      dist_pos_list.append(x)\n",
        "\n",
        "  return dist_pos_list"
      ],
      "metadata": {
        "id": "CGRytdSi0vAE"
      },
      "execution_count": 149,
      "outputs": []
    },
    {
      "cell_type": "code",
      "source": [
        "len(part_1('test'))"
      ],
      "metadata": {
        "colab": {
          "base_uri": "https://localhost:8080/"
        },
        "id": "oPjTqKKeDeIj",
        "outputId": "58dbb297-258c-430c-fa8e-49e49b6759a9"
      },
      "execution_count": 150,
      "outputs": [
        {
          "output_type": "execute_result",
          "data": {
            "text/plain": [
              "41"
            ]
          },
          "metadata": {},
          "execution_count": 150
        }
      ]
    },
    {
      "cell_type": "code",
      "source": [
        "len(part_1('prod'))"
      ],
      "metadata": {
        "colab": {
          "base_uri": "https://localhost:8080/"
        },
        "id": "0BF7cjI5DhRi",
        "outputId": "f4a6cc3d-19b3-4a5d-e5e8-f3688fcd2bea"
      },
      "execution_count": 151,
      "outputs": [
        {
          "output_type": "execute_result",
          "data": {
            "text/plain": [
              "5318"
            ]
          },
          "metadata": {},
          "execution_count": 151
        }
      ]
    },
    {
      "cell_type": "markdown",
      "source": [
        "Part 2"
      ],
      "metadata": {
        "id": "1z0c3h9U9Ong"
      }
    },
    {
      "cell_type": "code",
      "source": [
        "def check_obstacle(obs_row,obs_col,mode):\n",
        "\n",
        "  # import data again here as I couldn't manage to copy the ducking list\n",
        "  if mode == 'prod':\n",
        "    with open('/content/06.txt') as f:\n",
        "      new_data = [list(line.strip('\\n')) for line in f]\n",
        "  if mode == 'test':\n",
        "    with open('/content/06_test.txt') as f:\n",
        "      new_data = [list(line.strip('\\n')) for line in f]\n",
        "\n",
        "  # make map with new obstacle\n",
        "  new_data[obs_row][obs_col] = '#'\n",
        "\n",
        "  # currently facing direction\n",
        "  dir = 'n'\n",
        "\n",
        "  # we are not yet stuck\n",
        "  we_are_stuck = False\n",
        "\n",
        "  # we are not yet out\n",
        "  we_are_out = False\n",
        "\n",
        "  # we have been blocked nowhere yet\n",
        "  obstructions_met = []\n",
        "\n",
        "  # get initial position\n",
        "  for a in range(len(new_data)):\n",
        "    if '^' in new_data[a]:\n",
        "      row = a\n",
        "      col = new_data[a].index('^')\n",
        "\n",
        "  # get max row and col positions\n",
        "  max_row = len(new_data) - 1\n",
        "  max_col = len(new_data[0]) - 1\n",
        "\n",
        "  # force end while for testing\n",
        "  breaker = 0\n",
        "\n",
        "  # keep walking\n",
        "  while we_are_out == False and we_are_stuck == False:\n",
        "\n",
        "    # move north\n",
        "    if dir == 'n':\n",
        "      new_row = row - 1\n",
        "      new_col = col\n",
        "      new_dir = 'e'\n",
        "      if row == 0:\n",
        "        we_are_out = True\n",
        "      else:\n",
        "        if new_data[new_row][new_col] == '#':\n",
        "            if [dir,new_row,new_col] in obstructions_met:\n",
        "              we_are_stuck = True\n",
        "            else:\n",
        "              obstructions_met.append([dir,new_row,new_col])\n",
        "              dir = new_dir\n",
        "        else:\n",
        "          row = new_row\n",
        "          col = new_col\n",
        "\n",
        "    # move east\n",
        "    if dir == 'e':\n",
        "      new_row = row\n",
        "      new_col = col + 1\n",
        "      new_dir = 's'\n",
        "      if col == max_col:\n",
        "        we_are_out = True\n",
        "      else:\n",
        "        if new_data[new_row][new_col] == '#':\n",
        "            if [dir,new_row,new_col] in obstructions_met:\n",
        "              we_are_stuck = True\n",
        "            else:\n",
        "              obstructions_met.append([dir,new_row,new_col])\n",
        "              dir = new_dir\n",
        "        else:\n",
        "          row = new_row\n",
        "          col = new_col\n",
        "\n",
        "    # move south\n",
        "    if dir == 's':\n",
        "      new_row = row + 1\n",
        "      new_col = col\n",
        "      new_dir = 'w'\n",
        "      if row == max_row:\n",
        "        we_are_out = True\n",
        "      else:\n",
        "        if new_data[new_row][new_col] == '#':\n",
        "            if [dir,new_row,new_col] in obstructions_met:\n",
        "              we_are_stuck = True\n",
        "            else:\n",
        "              obstructions_met.append([dir,new_row,new_col])\n",
        "              dir = new_dir\n",
        "        else:\n",
        "          row = new_row\n",
        "          col = new_col\n",
        "\n",
        "    # move west\n",
        "    if dir == 'w':\n",
        "      new_row = row\n",
        "      new_col = col - 1\n",
        "      new_dir = 'n'\n",
        "      if col == 0:\n",
        "        we_are_out = True\n",
        "      else:\n",
        "        if new_data[new_row][new_col] == '#':\n",
        "            if [dir,new_row,new_col] in obstructions_met:\n",
        "              we_are_stuck = True\n",
        "            else:\n",
        "              obstructions_met.append([dir,new_row,new_col])\n",
        "              dir = new_dir\n",
        "        else:\n",
        "          row = new_row\n",
        "          col = new_col\n",
        "\n",
        "    # avoid eternal looping\n",
        "    breaker += 1\n",
        "    if breaker > 60 and mode == 'test':\n",
        "      print('break')\n",
        "      break\n",
        "\n",
        "  return we_are_stuck"
      ],
      "metadata": {
        "id": "olGnVNGiM5rs"
      },
      "execution_count": 126,
      "outputs": []
    },
    {
      "cell_type": "code",
      "source": [
        "def part_2(mode):\n",
        "\n",
        "  # import data inside to only give mode once\n",
        "  if mode == 'prod':\n",
        "    with open('/content/06.txt') as f:\n",
        "      my_input = [list(line.strip('\\n')) for line in f]\n",
        "  if mode == 'test':\n",
        "    with open('/content/06_test.txt') as f:\n",
        "      my_input = [list(line.strip('\\n')) for line in f]\n",
        "\n",
        "  # how many obstacles cause a loop?\n",
        "  successful_obstacles = 0\n",
        "\n",
        "  # only need to check spaces that were get hit\n",
        "  open_spaces = part_1(mode)\n",
        "\n",
        "  # check them\n",
        "  for a in range(len(my_input)):\n",
        "    for b in range(len(my_input[a])):\n",
        "      if my_input[a][b] == '.' and [a,b] in open_spaces:\n",
        "        success = check_obstacle(a,b,mode)\n",
        "        if success == True:\n",
        "          successful_obstacles += 1\n",
        "\n",
        "  return successful_obstacles"
      ],
      "metadata": {
        "id": "kBAlPtXDZhHO"
      },
      "execution_count": 152,
      "outputs": []
    },
    {
      "cell_type": "code",
      "source": [
        "part_2('test')"
      ],
      "metadata": {
        "colab": {
          "base_uri": "https://localhost:8080/"
        },
        "id": "O0h80pQLZpfO",
        "outputId": "39ecec21-0fc8-4e1c-8ef4-a6d3eacc2974"
      },
      "execution_count": 153,
      "outputs": [
        {
          "output_type": "execute_result",
          "data": {
            "text/plain": [
              "6"
            ]
          },
          "metadata": {},
          "execution_count": 153
        }
      ]
    },
    {
      "cell_type": "code",
      "source": [
        "part_2('prod')"
      ],
      "metadata": {
        "colab": {
          "base_uri": "https://localhost:8080/"
        },
        "id": "bZbTl-IeaAKS",
        "outputId": "dbb0024a-1370-4351-8135-5549f60348c2"
      },
      "execution_count": 154,
      "outputs": [
        {
          "output_type": "execute_result",
          "data": {
            "text/plain": [
              "1831"
            ]
          },
          "metadata": {},
          "execution_count": 154
        }
      ]
    }
  ]
}