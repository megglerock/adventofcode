{
  "nbformat": 4,
  "nbformat_minor": 0,
  "metadata": {
    "colab": {
      "provenance": [],
      "authorship_tag": "ABX9TyME4IFnbDnraFKGkHplXB3b"
    },
    "kernelspec": {
      "name": "python3",
      "display_name": "Python 3"
    },
    "language_info": {
      "name": "python"
    }
  },
  "cells": [
    {
      "cell_type": "code",
      "execution_count": null,
      "metadata": {
        "id": "Pf2mY6U6SOZ7"
      },
      "outputs": [],
      "source": [
        "in_dev = '''Button A: X+94, Y+34\n",
        "Button B: X+22, Y+67\n",
        "Prize: X=8400, Y=5400\n",
        "\n",
        "Button A: X+26, Y+66\n",
        "Button B: X+67, Y+21\n",
        "Prize: X=12748, Y=12176\n",
        "\n",
        "Button A: X+17, Y+86\n",
        "Button B: X+84, Y+37\n",
        "Prize: X=7870, Y=6450\n",
        "\n",
        "Button A: X+69, Y+23\n",
        "Button B: X+27, Y+71\n",
        "Prize: X=18641, Y=10279'''"
      ]
    },
    {
      "cell_type": "code",
      "source": [
        "prod_str = ''\n",
        "with open('/content/learn_13.txt') as f:\n",
        "  for line in f:\n",
        "    prod_str += line"
      ],
      "metadata": {
        "id": "2vPV8ZvNdpgS"
      },
      "execution_count": null,
      "outputs": []
    },
    {
      "cell_type": "markdown",
      "source": [
        "Part 1"
      ],
      "metadata": {
        "id": "Hv9dlqOidorI"
      }
    },
    {
      "cell_type": "code",
      "source": [
        "def part_1(input_string):\n",
        "\n",
        "  list_1 = input_string.split('\\n\\n')\n",
        "  input_data = [i.split('\\n') for i in list_1]\n",
        "\n",
        "  for a in input_data:\n",
        "    a[0] = [int(a[0].split(', ')[0][12:]),int(a[0].split(', ')[1][2:])]\n",
        "    a[1] = [int(a[1].split(', ')[0][12:]),int(a[1].split(', ')[1][2:])]\n",
        "    a[2] = [int(a[2].split(', ')[0][9:]),int(a[2].split(', ')[1][2:])]\n",
        "\n",
        "  cost_sum = 0\n",
        "  for ex in input_data:\n",
        "    b = ((ex[2][0]*ex[0][1])-(ex[0][0]*ex[2][1]))/((ex[1][0]*ex[0][1])-(ex[0][0]*ex[1][1]))\n",
        "    a = (ex[2][1] - (ex[1][1]*b))/ex[0][1]\n",
        "    if int(a) == a and int(b) == b:\n",
        "      cost_sum += ((3*int(a))+int(b))\n",
        "\n",
        "  return cost_sum"
      ],
      "metadata": {
        "id": "NbFRDqEKfDe7"
      },
      "execution_count": null,
      "outputs": []
    },
    {
      "cell_type": "code",
      "source": [
        "part_1(in_dev)"
      ],
      "metadata": {
        "id": "SMaDcurigPPx"
      },
      "execution_count": null,
      "outputs": []
    },
    {
      "cell_type": "code",
      "source": [
        "part_1(prod_str)"
      ],
      "metadata": {
        "id": "cwkT4BMjfNkC"
      },
      "execution_count": null,
      "outputs": []
    },
    {
      "cell_type": "markdown",
      "source": [
        "Part 2: add 10000000000000"
      ],
      "metadata": {
        "id": "p90t0qkGg_dF"
      }
    },
    {
      "cell_type": "code",
      "source": [
        "def part_2(input_string):\n",
        "\n",
        "  list_1 = input_string.split('\\n\\n')\n",
        "  input_data = [i.split('\\n') for i in list_1]\n",
        "\n",
        "  for a in input_data:\n",
        "    a[0] = [int(a[0].split(', ')[0][12:]),int(a[0].split(', ')[1][2:])]\n",
        "    a[1] = [int(a[1].split(', ')[0][12:]),int(a[1].split(', ')[1][2:])]\n",
        "    a[2] = [int(a[2].split(', ')[0][9:])+10000000000000,int(a[2].split(', ')[1][2:])+10000000000000]\n",
        "\n",
        "  cost_sum = 0\n",
        "  for ex in input_data:\n",
        "    b = ((ex[2][0]*ex[0][1])-(ex[0][0]*ex[2][1]))/((ex[1][0]*ex[0][1])-(ex[0][0]*ex[1][1]))\n",
        "    a = (ex[2][1] - (ex[1][1]*b))/ex[0][1]\n",
        "    if int(a) == a and int(b) == b:\n",
        "      cost_sum += ((3*int(a))+int(b))\n",
        "\n",
        "  return cost_sum"
      ],
      "metadata": {
        "id": "IWuPbhENgpJu"
      },
      "execution_count": null,
      "outputs": []
    },
    {
      "cell_type": "code",
      "source": [
        "part_2(in_dev)"
      ],
      "metadata": {
        "id": "RyYqSgbSgumU"
      },
      "execution_count": null,
      "outputs": []
    },
    {
      "cell_type": "code",
      "source": [
        "part_2(prod_str)"
      ],
      "metadata": {
        "id": "5UUQtkOMgyRr"
      },
      "execution_count": null,
      "outputs": []
    }
  ]
}