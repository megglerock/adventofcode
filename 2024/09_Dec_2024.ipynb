{
  "nbformat": 4,
  "nbformat_minor": 0,
  "metadata": {
    "colab": {
      "provenance": [],
      "authorship_tag": "ABX9TyO933F0G6Ir5LZy3rTLYT9x"
    },
    "kernelspec": {
      "name": "python3",
      "display_name": "Python 3"
    },
    "language_info": {
      "name": "python"
    }
  },
  "cells": [
    {
      "cell_type": "code",
      "execution_count": null,
      "metadata": {
        "id": "onmxG1n9p5vR"
      },
      "outputs": [],
      "source": [
        "dev_data = '12345'\n",
        "dev_exp_ans_1 = 60\n",
        "\n",
        "test_data = '2333133121414131402'\n",
        "test_exp_ans_1 = 1928\n",
        "test_exp_ans_2 = 2858\n",
        "\n",
        "prod_data = ''"
      ]
    },
    {
      "cell_type": "markdown",
      "source": [
        "Part 1"
      ],
      "metadata": {
        "id": "YC8HYKashY9N"
      }
    },
    {
      "cell_type": "code",
      "source": [
        "def part_1_list(input_string):\n",
        "\n",
        "  # split out input data\n",
        "  my_file_counts = [int(i) for i in list(input_string)[::2]]\n",
        "  my_free_space = [int(i) for i in list(input_string)[1::2]]\n",
        "\n",
        "  # get list of files\n",
        "  my_files = []\n",
        "  for i in range(len(my_file_counts)):\n",
        "    to_app = []\n",
        "    for j in range(0,my_file_counts[i]):\n",
        "      to_app.append(i)\n",
        "    my_files.append(to_app)\n",
        "\n",
        "  # get ordered list of files to add\n",
        "  files_to_add = []\n",
        "  for i in reversed(range(len(my_file_counts))):\n",
        "    for j in range(0,my_file_counts[i]):\n",
        "      files_to_add.append(i)\n",
        "\n",
        "  # fill in free space\n",
        "  fill_free_space = []\n",
        "  at_cell = 0\n",
        "  for i in my_free_space:\n",
        "    fill_free_space.append(files_to_add[at_cell:i+at_cell])\n",
        "    at_cell = at_cell + i\n",
        "\n",
        "  # concat answer\n",
        "  ans = my_files[0]\n",
        "  for i in range(len(fill_free_space)):\n",
        "    ans += fill_free_space[i]\n",
        "    ans += my_files[i+1]\n",
        "\n",
        "  # trim answer\n",
        "  max_len = 0\n",
        "  for a in my_file_counts:\n",
        "    max_len += (a)\n",
        "\n",
        "  return ans[:max_len]"
      ],
      "metadata": {
        "id": "jbxE0axjgRFd"
      },
      "execution_count": null,
      "outputs": []
    },
    {
      "cell_type": "code",
      "source": [
        "def part_1_ans(input_string):\n",
        "\n",
        "  res_sum = 0\n",
        "\n",
        "  for i in range(len(input_string)):\n",
        "    res_sum += (i*int(input_string[i]))\n",
        "\n",
        "  return res_sum"
      ],
      "metadata": {
        "id": "lNmyTMGFPUuL"
      },
      "execution_count": null,
      "outputs": []
    },
    {
      "cell_type": "code",
      "source": [
        "dev_act_ans_1 = part_1_ans(part_1_list(dev_data))\n",
        "if dev_act_ans_1 == dev_exp_ans_1:\n",
        "  print('Correct answer! ' + str(dev_act_ans_1))\n",
        "else:\n",
        "  print('Incorrect answer :( ' + str(dev_act_ans_1))"
      ],
      "metadata": {
        "id": "lfl9aiBbFE8g"
      },
      "execution_count": null,
      "outputs": []
    },
    {
      "cell_type": "code",
      "source": [
        "test_act_ans_1 = part_1_ans(part_1_list(test_data))\n",
        "if test_act_ans_1 == test_exp_ans_1:\n",
        "  print('Correct answer! ' + str(test_act_ans_1))\n",
        "else:\n",
        "  print('Incorrect answer :( ' + str(test_act_ans_1))"
      ],
      "metadata": {
        "id": "hFfYZZe3Z066"
      },
      "execution_count": null,
      "outputs": []
    },
    {
      "cell_type": "code",
      "source": [
        "# not 5314470789 : too low\n",
        "part_1_ans(part_1_list(prod_data))"
      ],
      "metadata": {
        "id": "YfxZ8HfQa9GZ"
      },
      "execution_count": null,
      "outputs": []
    },
    {
      "cell_type": "markdown",
      "source": [
        "Part 2"
      ],
      "metadata": {
        "id": "akCArlh8JLGz"
      }
    },
    {
      "cell_type": "code",
      "source": [
        "def part_2_list(input_string):\n",
        "\n",
        "  # split out input data\n",
        "  my_file_counts = [int(i) for i in list(input_string)[::2]]\n",
        "  my_free_space = [int(i) for i in list(input_string)[1::2]]\n",
        "\n",
        "  # get list of files\n",
        "  my_files = []\n",
        "  for i in range(len(my_file_counts)):\n",
        "    to_app = []\n",
        "    for j in range(0,my_file_counts[i]):\n",
        "      to_app.append(i)\n",
        "    my_files.append(to_app)\n",
        "\n",
        "  # create navigable output list\n",
        "  my_output = []\n",
        "  my_output.append(my_files[0])\n",
        "  for i in range(len(my_free_space)):\n",
        "    my_output.append(['free',my_free_space[i],[]])\n",
        "    my_output.append(my_files[i+1])\n",
        "\n",
        "  # go through files to see if they can be moved\n",
        "  for i in reversed(my_files):\n",
        "    add_len = len(i)\n",
        "    loc_in_output = my_output.index(i)\n",
        "    moved = False\n",
        "    for a in my_output[:loc_in_output]:\n",
        "      if a[0] == 'free':\n",
        "        if a[1] >= add_len and moved == False:\n",
        "          for x in i:\n",
        "            a[2].append(x)\n",
        "          a[1] -= add_len\n",
        "          moved = True\n",
        "          my_output[loc_in_output] = ['free',add_len,[]]\n",
        "\n",
        "  # translate navigable output list into plain old list\n",
        "  final_list = []\n",
        "  for x in my_output:\n",
        "    if x[0] == 'free':\n",
        "      if len(x[2]) > 0:\n",
        "        for a in x[2]:\n",
        "          final_list.append(a)\n",
        "      if x[1] > 0:\n",
        "        for b in range(0,x[1]):\n",
        "          final_list.append(0)\n",
        "    else:\n",
        "      for c in x:\n",
        "        final_list.append(c)\n",
        "\n",
        "  return final_list"
      ],
      "metadata": {
        "id": "HTOKYHLqJL5z"
      },
      "execution_count": null,
      "outputs": []
    },
    {
      "cell_type": "code",
      "source": [
        "def part_1_ans(input_string):\n",
        "\n",
        "  res_sum = 0\n",
        "\n",
        "  for i in range(len(input_string)):\n",
        "    res_sum += (i*int(input_string[i]))\n",
        "\n",
        "  return res_sum"
      ],
      "metadata": {
        "id": "hFevC1hbVj4P"
      },
      "execution_count": null,
      "outputs": []
    },
    {
      "cell_type": "code",
      "source": [
        "test_act_ans_2 = part_1_ans(part_2_list(test_data))\n",
        "if test_act_ans_2 == test_exp_ans_2:\n",
        "  print('Correct answer! ' + str(test_act_ans_2))\n",
        "else:\n",
        "  print('Incorrect answer :( ' + str(test_act_ans_2))"
      ],
      "metadata": {
        "id": "jar_atirVSrg"
      },
      "execution_count": null,
      "outputs": []
    },
    {
      "cell_type": "code",
      "source": [
        "part_1_ans(part_2_list(prod_data))"
      ],
      "metadata": {
        "id": "YqapdLAMVlnf"
      },
      "execution_count": null,
      "outputs": []
    }
  ]
}