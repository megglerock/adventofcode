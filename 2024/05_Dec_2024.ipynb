{
  "nbformat": 4,
  "nbformat_minor": 0,
  "metadata": {
    "colab": {
      "provenance": [],
      "authorship_tag": "ABX9TyMAeis8ZHc8rvLXu4I4Fcde"
    },
    "kernelspec": {
      "name": "python3",
      "display_name": "Python 3"
    },
    "language_info": {
      "name": "python"
    }
  },
  "cells": [
    {
      "cell_type": "code",
      "execution_count": null,
      "metadata": {
        "id": "0EZKM3FaxU6i"
      },
      "outputs": [],
      "source": [
        "with open('/content/05_a.txt') as f:\n",
        "    input_a = [line.strip('\\n').split('|') for line in f]\n",
        "with open('/content/05_b.txt') as f:\n",
        "    input_b = [line.strip('\\n').split(',') for line in f]"
      ]
    },
    {
      "cell_type": "markdown",
      "source": [
        "Part 1"
      ],
      "metadata": {
        "id": "Kvij2dLLECWV"
      }
    },
    {
      "cell_type": "code",
      "source": [
        "def get_correct_updates(order_list,update_list):\n",
        "  correct_updates = []\n",
        "  for x in update_list:\n",
        "    is_correct = True\n",
        "    for y in order_list:\n",
        "      if y[0] in x and y[1] in x and x.index(y[0]) > x.index(y[1]) :\n",
        "          is_correct = False\n",
        "    if is_correct == True:\n",
        "      correct_updates.append(x)\n",
        "  return correct_updates\n",
        "\n",
        "correct_updates = get_correct_updates(input_a,input_b)"
      ],
      "metadata": {
        "id": "EpBjneoh0J5T"
      },
      "execution_count": null,
      "outputs": []
    },
    {
      "cell_type": "code",
      "source": [
        "def get_total_medians(update_list):\n",
        "  res = 0\n",
        "  for i in update_list:\n",
        "    res += int(i[int(((len(i)+1)/2)-1)])\n",
        "  return res\n",
        "\n",
        "get_total_medians(correct_updates)"
      ],
      "metadata": {
        "id": "6z1HfwNh6QhJ"
      },
      "execution_count": null,
      "outputs": []
    },
    {
      "cell_type": "markdown",
      "source": [
        "Part 2"
      ],
      "metadata": {
        "id": "rZfvAZYM797d"
      }
    },
    {
      "cell_type": "code",
      "source": [
        "def get_incorrect_updates(order_list,update_list):\n",
        "  incorrect_updates = []\n",
        "  for x in update_list:\n",
        "    is_correct = True\n",
        "    for y in order_list:\n",
        "      if y[0] in x and y[1] in x and x.index(y[0]) > x.index(y[1]) :\n",
        "          is_correct = False\n",
        "    if is_correct == False:\n",
        "      incorrect_updates.append(x)\n",
        "  return incorrect_updates\n",
        "\n",
        "incorrect_updates = get_incorrect_updates(input_a,input_b)"
      ],
      "metadata": {
        "id": "hn5Cqiwo788L"
      },
      "execution_count": null,
      "outputs": []
    },
    {
      "cell_type": "code",
      "source": [
        "def check_list(order_list,update):\n",
        "  is_correct = True\n",
        "  for y in order_list:\n",
        "    if y[0] in update and y[1] in update and update.index(y[0]) > update.index(y[1]) :\n",
        "        is_correct = False\n",
        "  return is_correct\n",
        "\n",
        "\n",
        "def fix_incorrect_updates(order_list,update_list):\n",
        "  fixed_updates = []\n",
        "  for x in update_list:\n",
        "\n",
        "    # get valid order rules for update\n",
        "    valid_orders = []\n",
        "    for c in order_list:\n",
        "      if c[0] in x and c[1] in x:\n",
        "        valid_orders.append(c)\n",
        "\n",
        "    # we know correct is false\n",
        "    is_correct = False\n",
        "\n",
        "    # fix the update\n",
        "    while is_correct == False:\n",
        "      for y in valid_orders:\n",
        "        if y[0] in x and y[1] in x and x.index(y[0]) > x.index(y[1]):\n",
        "            i = x.index(y[0])\n",
        "            j = x.index(y[1])\n",
        "            x[i], x[j] = x[j], x[i]\n",
        "      is_correct = check_list(valid_orders,x)\n",
        "\n",
        "    # once fixed append\n",
        "    fixed_updates.append(x)\n",
        "\n",
        "  return fixed_updates\n",
        "\n",
        "fixed_updates = fix_incorrect_updates(input_a,incorrect_updates)"
      ],
      "metadata": {
        "id": "_Z7XIqjC_Ovt"
      },
      "execution_count": null,
      "outputs": []
    },
    {
      "cell_type": "code",
      "source": [
        "get_total_medians(fixed_updates)"
      ],
      "metadata": {
        "id": "HtBV7HGrDmvH"
      },
      "execution_count": null,
      "outputs": []
    }
  ]
}