{
  "nbformat": 4,
  "nbformat_minor": 0,
  "metadata": {
    "colab": {
      "provenance": []
    },
    "kernelspec": {
      "name": "python3",
      "display_name": "Python 3"
    },
    "language_info": {
      "name": "python"
    }
  },
  "cells": [
    {
      "cell_type": "markdown",
      "source": [
        "Part 1"
      ],
      "metadata": {
        "id": "KomWbr8ePISM"
      }
    },
    {
      "cell_type": "code",
      "source": [
        "import csv\n",
        "\n",
        "with open('/content/01.txt', newline='') as f:\n",
        "    reader = csv.reader(f)\n",
        "    data = list(reader)\n",
        "\n",
        "print(data)"
      ],
      "metadata": {
        "id": "4C1f8YKcL4qx"
      },
      "execution_count": null,
      "outputs": []
    },
    {
      "cell_type": "code",
      "source": [
        "list_1 = []\n",
        "for i in data:\n",
        "  list_1.append(i[0])\n",
        "\n",
        "list_2 = []\n",
        "for i in data:\n",
        "  list_2.append(i[1])"
      ],
      "metadata": {
        "id": "FWxyYlseMttC"
      },
      "execution_count": null,
      "outputs": []
    },
    {
      "cell_type": "code",
      "source": [
        "list_1.sort()\n",
        "list_2.sort()"
      ],
      "metadata": {
        "id": "_fcXcnkHNAJw"
      },
      "execution_count": null,
      "outputs": []
    },
    {
      "cell_type": "code",
      "source": [
        "print(list_1[0])\n",
        "print(list_2[0])"
      ],
      "metadata": {
        "id": "sYMAnY-GOrGA"
      },
      "execution_count": null,
      "outputs": []
    },
    {
      "cell_type": "code",
      "source": [
        "len_lists = len(list_1)\n",
        "len_lists"
      ],
      "metadata": {
        "id": "3NbkvtGvODwo"
      },
      "execution_count": null,
      "outputs": []
    },
    {
      "cell_type": "code",
      "source": [
        "abs_diffs = []\n",
        "for a in range(len_lists):\n",
        "  diff = abs(int(list_1[a]) - int(list_2[a]))\n",
        "  abs_diffs.append(diff)"
      ],
      "metadata": {
        "id": "nxWsUJUKNPb6"
      },
      "execution_count": null,
      "outputs": []
    },
    {
      "cell_type": "code",
      "source": [
        "sum(abs_diffs)"
      ],
      "metadata": {
        "id": "zrGbSfqNOmSd"
      },
      "execution_count": null,
      "outputs": []
    },
    {
      "cell_type": "markdown",
      "source": [
        "Part 2"
      ],
      "metadata": {
        "id": "bJQHrBEDPGcO"
      }
    },
    {
      "cell_type": "code",
      "source": [
        "import csv\n",
        "\n",
        "with open('/content/01_tester.txt', newline='') as f:\n",
        "    reader = csv.reader(f)\n",
        "    test_data = list(reader)\n",
        "\n",
        "print(test_data)"
      ],
      "metadata": {
        "id": "NM01SQHDPGIK"
      },
      "execution_count": null,
      "outputs": []
    },
    {
      "cell_type": "code",
      "source": [
        "test_list_1 = []\n",
        "for i in test_data:\n",
        "  test_list_1.append(i[0])\n",
        "\n",
        "test_list_2 = []\n",
        "for i in test_data:\n",
        "  test_list_2.append(i[1])"
      ],
      "metadata": {
        "id": "tv3ABp4aPkna"
      },
      "execution_count": null,
      "outputs": []
    },
    {
      "cell_type": "code",
      "source": [
        "print(test_list_1)\n",
        "print(test_list_2)"
      ],
      "metadata": {
        "id": "14wM0vFzPpDS"
      },
      "execution_count": null,
      "outputs": []
    },
    {
      "cell_type": "code",
      "source": [
        "import pandas as pd\n",
        "test_df_1 = pd.DataFrame(data=test_list_1, columns=['input'])\n",
        "test_df_2 = pd.DataFrame(data=test_list_2, columns=['input'])"
      ],
      "metadata": {
        "id": "aOc3qzxhP67B"
      },
      "execution_count": null,
      "outputs": []
    },
    {
      "cell_type": "code",
      "source": [
        "test_df_2['counter'] = 1\n",
        "test_sum_df_2 = test_df_2.groupby(['input']).sum()"
      ],
      "metadata": {
        "id": "OtjISojLQSeZ"
      },
      "execution_count": null,
      "outputs": []
    },
    {
      "cell_type": "code",
      "source": [
        "test_sum_df_2.index"
      ],
      "metadata": {
        "id": "-H0b45dBSTvJ"
      },
      "execution_count": null,
      "outputs": []
    },
    {
      "cell_type": "code",
      "source": [
        "test_out_df = test_df_1.set_index('input').join(test_sum_df_2)"
      ],
      "metadata": {
        "id": "akwV1DaPRxdx"
      },
      "execution_count": null,
      "outputs": []
    },
    {
      "cell_type": "code",
      "source": [
        "test_out_df = test_out_df.reset_index()"
      ],
      "metadata": {
        "id": "toDtpBfnTBH0"
      },
      "execution_count": null,
      "outputs": []
    },
    {
      "cell_type": "code",
      "source": [
        "test_out_df['product'] = test_out_df.input.astype('int32') * test_out_df.counter.fillna(0)"
      ],
      "metadata": {
        "id": "kx5JKTTTTijB"
      },
      "execution_count": null,
      "outputs": []
    },
    {
      "cell_type": "code",
      "source": [
        "test_out_df['product'].sum()"
      ],
      "metadata": {
        "id": "5Q4c2_1_WRNb"
      },
      "execution_count": null,
      "outputs": []
    },
    {
      "cell_type": "markdown",
      "source": [
        "Part 2 - Production"
      ],
      "metadata": {
        "id": "OGZornCBWd-D"
      }
    },
    {
      "cell_type": "code",
      "source": [
        "import pandas as pd\n",
        "prod_df_1 = pd.DataFrame(data=list_1, columns=['input'])\n",
        "prod_df_2 = pd.DataFrame(data=list_2, columns=['input'])\n",
        "prod_df_2['counter'] = 1\n",
        "prod_sum_df_2 = prod_df_2.groupby(['input']).sum()\n",
        "prod_out_df = prod_df_1.set_index('input').join(prod_sum_df_2)\n",
        "prod_out_df = prod_out_df.reset_index()\n",
        "prod_out_df['product'] = prod_out_df.input.astype('int32') * prod_out_df.counter.fillna(0)\n",
        "prod_out_df['product'].sum()"
      ],
      "metadata": {
        "id": "GKPbxyRBWfji"
      },
      "execution_count": null,
      "outputs": []
    }
  ]
}