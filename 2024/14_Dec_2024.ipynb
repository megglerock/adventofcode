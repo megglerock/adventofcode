{
  "nbformat": 4,
  "nbformat_minor": 0,
  "metadata": {
    "colab": {
      "provenance": [],
      "authorship_tag": "ABX9TyPbaBY2jqjnOXmT++pI9gd7"
    },
    "kernelspec": {
      "name": "python3",
      "display_name": "Python 3"
    },
    "language_info": {
      "name": "python"
    }
  },
  "cells": [
    {
      "cell_type": "code",
      "execution_count": null,
      "metadata": {
        "id": "QyuSRHaV68Ay"
      },
      "outputs": [],
      "source": [
        "test_exp_ans_1 = 12"
      ]
    },
    {
      "cell_type": "code",
      "source": [
        "#import test data\n",
        "with open('/content/14_test.txt') as f:\n",
        "    test_data = [line.strip('\\n') for line in f]"
      ],
      "metadata": {
        "id": "sep9Bsxh7F3B"
      },
      "execution_count": null,
      "outputs": []
    },
    {
      "cell_type": "code",
      "source": [
        "# import prod data\n",
        "with open('/content/14_prod.txt') as f:\n",
        "    prod_data = [line.strip('\\n') for line in f]"
      ],
      "metadata": {
        "id": "qTFay9S27CD5"
      },
      "execution_count": null,
      "outputs": []
    },
    {
      "cell_type": "markdown",
      "source": [
        "Part 1"
      ],
      "metadata": {
        "id": "TQZhcFVr9Hzp"
      }
    },
    {
      "cell_type": "code",
      "source": [
        "def part_1(input_data,width,height,seconds):\n",
        "\n",
        "  better = []\n",
        "  for i in input_data:\n",
        "    a = i.split(' ')\n",
        "    better.append([[int(d) for d in a[0][2:].split(',')],[int(e) for e in a[1][2:].split(',')]])\n",
        "\n",
        "  out_locs = []\n",
        "  for a in better:\n",
        "    x = (a[0][0] + (a[1][0]*seconds)) % width\n",
        "    y = (a[0][1] + (a[1][1]*seconds)) % height\n",
        "    out_locs.append([x,y])\n",
        "\n",
        "  mid_x = int(width/2)\n",
        "  mid_y = int(height/2)\n",
        "\n",
        "  quads = [0,0,0,0]\n",
        "\n",
        "  for b in out_locs:\n",
        "    if b[0] < mid_x and b[1] < mid_y:\n",
        "      quads[0] += 1\n",
        "    elif b[0] > mid_x and b[1] < mid_y:\n",
        "      quads[1] += 1\n",
        "    elif b[0] > mid_x and b[1] > mid_y:\n",
        "      quads[2] += 1\n",
        "    elif b[0] < mid_x and b[1] > mid_y:\n",
        "      quads[3] += 1\n",
        "\n",
        "  return quads[0]*quads[1]*quads[2]*quads[3]"
      ],
      "metadata": {
        "id": "cPyHQnbQDKeA"
      },
      "execution_count": null,
      "outputs": []
    },
    {
      "cell_type": "code",
      "source": [
        "test_act_ans_1 = part_1(test_data,11,7,100)\n",
        "if test_act_ans_1 == test_exp_ans_1:\n",
        "  print('Correct answer! ' + str(test_act_ans_1))\n",
        "else:\n",
        "  print('Incorrect answer :( ' + str(test_act_ans_1))"
      ],
      "metadata": {
        "id": "mLhl5rk99uXl"
      },
      "execution_count": null,
      "outputs": []
    },
    {
      "cell_type": "code",
      "source": [
        "part_1(prod_data,101,103,100)"
      ],
      "metadata": {
        "id": "lLj5247FDlP_"
      },
      "execution_count": null,
      "outputs": []
    },
    {
      "cell_type": "markdown",
      "source": [
        "Part 2"
      ],
      "metadata": {
        "id": "Ogqa8XzJG5-C"
      }
    },
    {
      "cell_type": "code",
      "source": [
        "test_width = 11\n",
        "test_height = 9\n",
        "prod_width = 101\n",
        "prod_height = 103"
      ],
      "metadata": {
        "id": "fDdOBJlvRgGx"
      },
      "execution_count": null,
      "outputs": []
    },
    {
      "cell_type": "code",
      "source": [
        "# just data reformatting\n",
        "def reformat_data(input_data):\n",
        "  new = []\n",
        "  for i in input_data:\n",
        "    a = i.split(' ')\n",
        "    new.append([[int(d) for d in a[0][2:].split(',')],[int(e) for e in a[1][2:].split(',')]])\n",
        "  return new"
      ],
      "metadata": {
        "id": "NLjSIiZjKeYW"
      },
      "execution_count": null,
      "outputs": []
    },
    {
      "cell_type": "code",
      "source": [
        "# translate data to image\n",
        "def map_data(input_data,width,height):\n",
        "  curr_loc = [[i[0][1],i[0][0]] for i in input_data]\n",
        "  curr_loc.sort()\n",
        "\n",
        "  start_wide = []\n",
        "  for i in range(width):\n",
        "    start_wide.append('.')\n",
        "\n",
        "  my_map = []\n",
        "  for j in range(height):\n",
        "    my_map.append(start_wide.copy())\n",
        "\n",
        "  for a in curr_loc:\n",
        "    my_map[a[0]][a[1]] = '|'\n",
        "\n",
        "  for m in range(len(my_map)):\n",
        "    b = my_map[m]\n",
        "    out_str = ''\n",
        "    for c in b:\n",
        "      out_str += c\n",
        "    my_map[m] = out_str\n",
        "\n",
        "  return my_map"
      ],
      "metadata": {
        "id": "wwnxwuTkSs0z"
      },
      "execution_count": null,
      "outputs": []
    },
    {
      "cell_type": "code",
      "source": [
        "# testing - check initial image\n",
        "better_test = reformat_data(test_data)\n",
        "map_data(better_test,test_width,test_height)"
      ],
      "metadata": {
        "id": "Emi0PqQfKivf"
      },
      "execution_count": null,
      "outputs": []
    },
    {
      "cell_type": "code",
      "source": [
        "# check image after 100 seconds\n",
        "test_counter = 0\n",
        "\n",
        "for c in range(100):\n",
        "  for a in better_test:\n",
        "    x = (a[0][0] + a[1][0]) % test_width\n",
        "    y = (a[0][1] + a[1][1]) % test_height\n",
        "    a[0] = [x,y]\n",
        "\n",
        "  test_counter += 1\n",
        "\n",
        "print(test_counter)\n",
        "map_data(better_test,test_width,test_height)"
      ],
      "metadata": {
        "id": "uZo6CXMeQoev"
      },
      "execution_count": null,
      "outputs": []
    },
    {
      "cell_type": "code",
      "source": [
        "# prod - check initial image\n",
        "better_prod = reformat_data(prod_data)\n",
        "\n",
        "# keep running this until we get a christmas tree\n",
        "check_counter = 0\n",
        "do_we_have_a_tree = False\n",
        "\n",
        "while do_we_have_a_tree == False:\n",
        "  for a in better_prod:\n",
        "    x = (a[0][0] + a[1][0]) % prod_width\n",
        "    y = (a[0][1] + a[1][1]) % prod_height\n",
        "    a[0] = [x,y]\n",
        "\n",
        "  check_counter += 1\n",
        "\n",
        "  my_map = map_data(better_prod,prod_width,prod_height)\n",
        "\n",
        "  for a in my_map:\n",
        "    if '|||||||||' in a:\n",
        "      do_we_have_a_tree = True\n",
        "\n",
        "print(check_counter)\n",
        "my_map"
      ],
      "metadata": {
        "id": "ldh2aDtIXzP1"
      },
      "execution_count": null,
      "outputs": []
    }
  ]
}