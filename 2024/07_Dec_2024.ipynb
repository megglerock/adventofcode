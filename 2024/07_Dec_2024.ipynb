{
  "nbformat": 4,
  "nbformat_minor": 0,
  "metadata": {
    "colab": {
      "provenance": [],
      "authorship_tag": "ABX9TyPhZAIN/bpMq7wWQSljME2N"
    },
    "kernelspec": {
      "name": "python3",
      "display_name": "Python 3"
    },
    "language_info": {
      "name": "python"
    }
  },
  "cells": [
    {
      "cell_type": "code",
      "execution_count": null,
      "metadata": {
        "id": "KypMVf_xTfzd"
      },
      "outputs": [],
      "source": [
        "# import data outside for dev work\n",
        "with open('/content/07_prod.txt') as f:\n",
        "    prod_data = [(line.strip('\\n')).split(': ') for line in f]\n",
        "with open('/content/07_test.txt') as f:\n",
        "    test_data = [(line.strip('\\n')).split(': ') for line in f]"
      ]
    },
    {
      "cell_type": "markdown",
      "source": [
        "Part 1"
      ],
      "metadata": {
        "id": "7HHgz7vBT1im"
      }
    },
    {
      "cell_type": "code",
      "source": [
        "def part_1(input_data):\n",
        "\n",
        "  res_sum = 0\n",
        "\n",
        "  for x in input_data:\n",
        "\n",
        "    # get all integers\n",
        "    int_list = [int(i) for i in x[1].split(' ')]\n",
        "\n",
        "    # start building a list of combinations\n",
        "    comb_list = [[int_list[0]]]\n",
        "\n",
        "    # only integers after the first one\n",
        "    add_vals = [i for i in int_list[1:]]\n",
        "\n",
        "    for y in range(len(add_vals)):\n",
        "\n",
        "      a_val = add_vals[y]\n",
        "\n",
        "      to_app = []\n",
        "\n",
        "      for i in comb_list[y]:\n",
        "        to_app.append(i + a_val)\n",
        "        to_app.append(i * a_val)\n",
        "\n",
        "      comb_list.append(to_app)\n",
        "\n",
        "    result_list = comb_list[-1]\n",
        "\n",
        "    if int(x[0]) in result_list:\n",
        "      res_sum += int(x[0])\n",
        "\n",
        "  return res_sum"
      ],
      "metadata": {
        "id": "OYLSTzBPAdxF"
      },
      "execution_count": null,
      "outputs": []
    },
    {
      "cell_type": "code",
      "source": [
        "test_answer_1 = part_1(test_data)\n",
        "if test_answer_1 == 3749:\n",
        "  print('Correct answer! ' + str(test_answer_1))\n",
        "else:\n",
        "  print('Incorrect answer :( ' + str(test_answer_1))"
      ],
      "metadata": {
        "id": "XJWkd_k8Ag_k"
      },
      "execution_count": null,
      "outputs": []
    },
    {
      "cell_type": "code",
      "source": [
        "part_1(prod_data)"
      ],
      "metadata": {
        "id": "_pJlmp-qAjtQ"
      },
      "execution_count": null,
      "outputs": []
    },
    {
      "cell_type": "markdown",
      "source": [
        "Part 2"
      ],
      "metadata": {
        "id": "d4OBwEZSAo7p"
      }
    },
    {
      "cell_type": "code",
      "source": [
        "# import data outside for dev work\n",
        "with open('/content/07_prod.txt') as f:\n",
        "    prod_data = [(line.strip('\\n')).split(': ') for line in f]\n",
        "with open('/content/07_test.txt') as f:\n",
        "    test_data = [(line.strip('\\n')).split(': ') for line in f]"
      ],
      "metadata": {
        "id": "XlbC11CwpSXB"
      },
      "execution_count": null,
      "outputs": []
    },
    {
      "cell_type": "code",
      "source": [
        "def part_2(input_data):\n",
        "\n",
        "  res_sum = 0\n",
        "\n",
        "  for x in input_data:\n",
        "    int_list = [int(i) for i in x[1].split(' ')]\n",
        "    comb_list = [int_list[0]]\n",
        "    add_vals = [i for i in int_list[1:]]\n",
        "    for y in add_vals:\n",
        "      new_combs = []\n",
        "      for i in comb_list:\n",
        "        new_combs.append(i + y)\n",
        "        new_combs.append(i * y)\n",
        "        new_combs.append(int(str(i) + str(y)))\n",
        "      comb_list = new_combs\n",
        "\n",
        "    if int(x[0]) in comb_list:\n",
        "      res_sum += int(x[0])\n",
        "\n",
        "  return res_sum\n"
      ],
      "metadata": {
        "id": "BTfUju_6r5Sf"
      },
      "execution_count": null,
      "outputs": []
    },
    {
      "cell_type": "code",
      "source": [
        "test_answer_2 = part_2(test_data)\n",
        "if test_answer_2 == 11387:\n",
        "  print('Correct answer! ' + str(test_answer_2))\n",
        "else:\n",
        "  print('Incorrect answer :( ' + str(test_answer_2))"
      ],
      "metadata": {
        "colab": {
          "base_uri": "https://localhost:8080/"
        },
        "id": "ZORjFoDpqFRt",
        "outputId": "b8750ecf-feff-4fda-8f18-7ef1d5184a3a"
      },
      "execution_count": null,
      "outputs": [
        {
          "output_type": "stream",
          "name": "stdout",
          "text": [
            "Correct answer! 11387\n"
          ]
        }
      ]
    },
    {
      "cell_type": "code",
      "source": [
        "# prod\n",
        "part_2(prod_data)"
      ],
      "metadata": {
        "id": "pBvkcJRhqzKg"
      },
      "execution_count": null,
      "outputs": []
    }
  ]
}