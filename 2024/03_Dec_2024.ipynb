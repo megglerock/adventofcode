{
  "nbformat": 4,
  "nbformat_minor": 0,
  "metadata": {
    "colab": {
      "provenance": [],
      "authorship_tag": "ABX9TyOC50Ypbm4q79U+6xkiGKD7"
    },
    "kernelspec": {
      "name": "python3",
      "display_name": "Python 3"
    },
    "language_info": {
      "name": "python"
    }
  },
  "cells": [
    {
      "cell_type": "code",
      "execution_count": null,
      "metadata": {
        "id": "m_bbfZEn41oG"
      },
      "outputs": [],
      "source": [
        "my_input = '''\n",
        "\n",
        "'''"
      ]
    },
    {
      "cell_type": "code",
      "source": [
        "my_test_input = '''\n",
        "xmul(2,4)%&mul[3,7]!@^do_not_mul(5,5)+mul(32,64]then(mul(11,8)mul(8,5))\n",
        "'''"
      ],
      "metadata": {
        "id": "RZEVjLYt5nxK"
      },
      "execution_count": null,
      "outputs": []
    },
    {
      "cell_type": "code",
      "source": [
        "in_list = []\n",
        "in_text = my_input\n",
        "for i in range(len(in_text)):\n",
        "  if in_text[i] == 'm':\n",
        "    to_app = in_text[i:(i+12)].split(')')[0]\n",
        "    in_list.append(to_app)\n",
        "    # print(to_app)"
      ],
      "metadata": {
        "id": "E0wqe-ZW5MIA"
      },
      "execution_count": null,
      "outputs": []
    },
    {
      "cell_type": "code",
      "source": [
        "list_2 = []\n",
        "for i in in_list:\n",
        "  if i[0:4] == 'mul(':\n",
        "    to_app = i[4:]\n",
        "    list_2.append(to_app)\n",
        "    # print(to_app)"
      ],
      "metadata": {
        "id": "V4Ul23GK6ra5"
      },
      "execution_count": null,
      "outputs": []
    },
    {
      "cell_type": "code",
      "source": [
        "list_3 = []\n",
        "bad_count = 0\n",
        "for i in list_2:\n",
        "  if (i.count(',')) == 1:\n",
        "    try:\n",
        "      a = int(i.split(',')[0])\n",
        "      try:\n",
        "        b = int(i.split(',')[1])\n",
        "        to_app = []\n",
        "        to_app.append(a)\n",
        "        to_app.append(b)\n",
        "        list_3.append(to_app)\n",
        "        # print(to_app)\n",
        "      except ValueError:\n",
        "        bad_count = bad_count + 1\n",
        "    except ValueError:\n",
        "      bad_count = bad_count + 1"
      ],
      "metadata": {
        "id": "goTwK9S66rQH"
      },
      "execution_count": null,
      "outputs": []
    },
    {
      "cell_type": "code",
      "source": [
        "out_total = 0\n",
        "for i in list_3:\n",
        "  add_val = i[0]*i[1]\n",
        "  out_total = out_total + add_val\n",
        "  # print(add_val)"
      ],
      "metadata": {
        "id": "RtaZREZa-eNQ"
      },
      "execution_count": null,
      "outputs": []
    },
    {
      "cell_type": "code",
      "source": [
        "print(out_total)"
      ],
      "metadata": {
        "colab": {
          "base_uri": "https://localhost:8080/"
        },
        "id": "dKiDQI43AZrs",
        "outputId": "7cbbf135-011d-4b26-ec76-f5e8146a942c"
      },
      "execution_count": null,
      "outputs": [
        {
          "output_type": "stream",
          "name": "stdout",
          "text": [
            "\n"
          ]
        }
      ]
    },
    {
      "cell_type": "markdown",
      "source": [
        "Part 2"
      ],
      "metadata": {
        "id": "nlSyQFmJ15OL"
      }
    },
    {
      "cell_type": "code",
      "source": [
        "my_test_input_pt2 = '''\n",
        "xmul(2,4)&mul[3,7]!^don't()_mul(5,5)+mul(32,64](mul(11,8)undo()?mul(8,5))\n",
        "'''"
      ],
      "metadata": {
        "id": "nD2ZGzi616FZ"
      },
      "execution_count": null,
      "outputs": []
    },
    {
      "cell_type": "code",
      "source": [
        "in_list = []\n",
        "in_text = my_input\n",
        "for i in range(len(in_text)):\n",
        "  if in_text[i] == 'm':\n",
        "    to_app = in_text[i:(i+12)].split(')')[0]\n",
        "    in_list.append(to_app)\n",
        "    # print(to_app)\n",
        "  if in_text[i] == 'd':\n",
        "    to_app = in_text[i:(i+7)].split(')')[0]\n",
        "    in_list.append(to_app)\n",
        "    # print(to_app)"
      ],
      "metadata": {
        "id": "qqAKORNl2Fpm"
      },
      "execution_count": null,
      "outputs": []
    },
    {
      "cell_type": "code",
      "source": [
        "list_2 = []\n",
        "for i in in_list:\n",
        "  if i[0:4] == 'mul(':\n",
        "    to_app = i[4:]\n",
        "    list_2.append(to_app)\n",
        "    # print(to_app)\n",
        "  if i == 'do(' or i == \"don't(\":\n",
        "    to_app = i\n",
        "    list_2.append(to_app)\n",
        "    # print(to_app)"
      ],
      "metadata": {
        "id": "h-xvznw22So7"
      },
      "execution_count": null,
      "outputs": []
    },
    {
      "cell_type": "code",
      "source": [
        "list_2_1 = []\n",
        "is_enabled = True\n",
        "for i in list_2:\n",
        "  if i == 'do(':\n",
        "    is_enabled = True\n",
        "    # print(is_enabled)\n",
        "  elif i == \"don't(\":\n",
        "    is_enabled = False\n",
        "    # print(is_enabled)\n",
        "  else:\n",
        "    if is_enabled == True:\n",
        "      list_2_1.append(i)\n",
        "      # print(i)"
      ],
      "metadata": {
        "id": "owprPNIm23hu"
      },
      "execution_count": null,
      "outputs": []
    },
    {
      "cell_type": "code",
      "source": [
        "list_3 = []\n",
        "bad_count = 0\n",
        "for i in list_2_1:\n",
        "  if (i.count(',')) == 1:\n",
        "    try:\n",
        "      a = int(i.split(',')[0])\n",
        "      try:\n",
        "        b = int(i.split(',')[1])\n",
        "        to_app = []\n",
        "        to_app.append(a)\n",
        "        to_app.append(b)\n",
        "        list_3.append(to_app)\n",
        "        # print(to_app)\n",
        "      except ValueError:\n",
        "        bad_count = bad_count + 1\n",
        "    except ValueError:\n",
        "      bad_count = bad_count + 1"
      ],
      "metadata": {
        "id": "qa5dRLEr3nt2"
      },
      "execution_count": null,
      "outputs": []
    },
    {
      "cell_type": "code",
      "source": [
        "out_total = 0\n",
        "for i in list_3:\n",
        "  add_val = i[0]*i[1]\n",
        "  out_total = out_total + add_val\n",
        "  # print(add_val)"
      ],
      "metadata": {
        "id": "XgkVau263tP4"
      },
      "execution_count": null,
      "outputs": []
    },
    {
      "cell_type": "code",
      "source": [
        "print(out_total)"
      ],
      "metadata": {
        "colab": {
          "base_uri": "https://localhost:8080/"
        },
        "id": "9mRi3nWT3wBT",
        "outputId": "c7f3fa9f-10bb-4cc3-8155-2f98a14b9cd6"
      },
      "execution_count": null,
      "outputs": [
        {
          "output_type": "stream",
          "name": "stdout",
          "text": [
            "\n"
          ]
        }
      ]
    }
  ]
}
