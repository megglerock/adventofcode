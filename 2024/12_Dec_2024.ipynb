{
  "nbformat": 4,
  "nbformat_minor": 0,
  "metadata": {
    "colab": {
      "provenance": [],
      "authorship_tag": "ABX9TyN0KRbwX4apdmzhb4558FQM"
    },
    "kernelspec": {
      "name": "python3",
      "display_name": "Python 3"
    },
    "language_info": {
      "name": "python"
    }
  },
  "cells": [
    {
      "cell_type": "code",
      "execution_count": null,
      "metadata": {
        "id": "JL8K7tQPhv-X"
      },
      "outputs": [],
      "source": [
        "dev_exp_ans_1 = 772\n",
        "test_exp_ans_1 = 1930"
      ]
    },
    {
      "cell_type": "code",
      "source": [
        "dev_exp_ans_2 = 436\n",
        "test_exp_ans_2 = 1206"
      ],
      "metadata": {
        "id": "1Hd1i3VzD0TG"
      },
      "execution_count": null,
      "outputs": []
    },
    {
      "cell_type": "code",
      "source": [
        "# import data\n",
        "with open('/content/12_prod.txt') as f:\n",
        "    prod_data = [list(line.strip('\\n')) for line in f]\n",
        "with open('/content/12_test.txt') as f:\n",
        "    test_data = [list(line.strip('\\n')) for line in f]"
      ],
      "metadata": {
        "id": "QMMtv0GIiZr_"
      },
      "execution_count": null,
      "outputs": []
    },
    {
      "cell_type": "code",
      "source": [
        "with open('/content/12_dev.txt') as f:\n",
        "    dev_data = [list(line.strip('\\n')) for line in f]"
      ],
      "metadata": {
        "id": "uqk4JIbCiefz"
      },
      "execution_count": null,
      "outputs": []
    },
    {
      "cell_type": "markdown",
      "source": [
        "Part 1"
      ],
      "metadata": {
        "id": "uWtQzPA3BRG2"
      }
    },
    {
      "cell_type": "code",
      "source": [
        "def get_groups(input_data):\n",
        "\n",
        "  my_vals = []\n",
        "  my_list = []\n",
        "\n",
        "  for x in range(len(input_data)):\n",
        "    for y in range(len(input_data[x])):\n",
        "      a = input_data[x][y]\n",
        "      if a not in my_vals:\n",
        "        my_vals.append(a)\n",
        "        my_list.append([a,[[x,y]]])\n",
        "      else:\n",
        "        row_no = my_vals.index(a)\n",
        "\n",
        "        # get up and left items to check\n",
        "        if x > 0:\n",
        "          if y > 0:\n",
        "            check_vals = [[x-1,y],[x,y-1]]\n",
        "          else:\n",
        "            check_vals = [[x-1,y]]\n",
        "        else:\n",
        "          check_vals = [[x,y-1]]\n",
        "\n",
        "        # same value?\n",
        "        act_check = [i for i in check_vals if input_data[i[0]][i[1]] == a]\n",
        "\n",
        "        if len(act_check) == 0:\n",
        "          my_list[row_no].append([[x,y]])\n",
        "        else:\n",
        "          grp_found = False\n",
        "          for c in act_check:\n",
        "            if grp_found == True:\n",
        "              if c not in added_to_grp:\n",
        "                for l in my_list[row_no][1:]:\n",
        "                  if c in l:\n",
        "                    added_to_grp += l\n",
        "                    my_list[row_no].remove(l)\n",
        "                    break\n",
        "            else:\n",
        "              for d in my_list[row_no][1:]:\n",
        "                if c in d:\n",
        "                  d.append([x,y])\n",
        "                  grp_found = True\n",
        "                  added_to_grp = d\n",
        "                  break\n",
        "\n",
        "  return my_list\n"
      ],
      "metadata": {
        "id": "1_ZMQAGf3fzK"
      },
      "execution_count": null,
      "outputs": []
    },
    {
      "cell_type": "code",
      "source": [
        "def part_1(input_data):\n",
        "\n",
        "  the_groups = get_groups(input_data)\n",
        "\n",
        "  res_sum = 0\n",
        "\n",
        "  for i in the_groups:\n",
        "    for j in i[1:]:\n",
        "      my_edges = []\n",
        "      len_group = len(j)\n",
        "      for a in j:\n",
        "        x = a[0]\n",
        "        y = a[1]\n",
        "        my_edges.append([x,'H',y,y+1])\n",
        "        my_edges.append([x+1,'H',y,y+1])\n",
        "        my_edges.append([y,'V',x,x+1])\n",
        "        my_edges.append([y+1,'V',x,x+1])\n",
        "      unique = [e for e in my_edges if my_edges.count(e) == 1]\n",
        "      res_sum += len_group * len(unique)\n",
        "\n",
        "  return res_sum\n"
      ],
      "metadata": {
        "id": "5gci48un-LWa"
      },
      "execution_count": null,
      "outputs": []
    },
    {
      "cell_type": "code",
      "source": [
        "dev_act_ans_1 = part_1(dev_data)\n",
        "if dev_act_ans_1 == dev_exp_ans_1:\n",
        "  print('correct answer! ' + str(dev_act_ans_1))\n",
        "else:\n",
        "  print('incorrect answer :( you said ' + str(dev_act_ans_1) + ' i want ' + str(dev_exp_ans_1))"
      ],
      "metadata": {
        "id": "mOmUyTKQ-_h_"
      },
      "execution_count": null,
      "outputs": []
    },
    {
      "cell_type": "code",
      "source": [
        "test_act_ans_1 = part_1(test_data)\n",
        "if test_act_ans_1 == test_exp_ans_1:\n",
        "  print('correct answer! ' + str(test_act_ans_1))\n",
        "else:\n",
        "  print('incorrect answer :( you said ' + str(test_act_ans_1) + ' i want ' + str(test_exp_ans_1))"
      ],
      "metadata": {
        "id": "421BE0_7Ata8"
      },
      "execution_count": null,
      "outputs": []
    },
    {
      "cell_type": "code",
      "source": [
        "part_1(prod_data)"
      ],
      "metadata": {
        "id": "xNGHIuoKDgY5"
      },
      "execution_count": null,
      "outputs": []
    },
    {
      "cell_type": "markdown",
      "source": [
        "Part 2"
      ],
      "metadata": {
        "id": "-rElSzYVHAFp"
      }
    },
    {
      "cell_type": "code",
      "source": [
        "def part_2(input_data):\n",
        "\n",
        "  the_groups = get_groups(input_data)\n",
        "\n",
        "  res_sum = 0\n",
        "\n",
        "  for i in the_groups:\n",
        "    for j in i[1:]:\n",
        "      my_edges_y_side = []\n",
        "      my_edges_n_side = []\n",
        "      len_group = len(j)\n",
        "      for a in j:\n",
        "        x = a[0]\n",
        "        y = a[1]\n",
        "        to_app = [[x,'H',y,y+1,'under'],[x+1,'H',y,y+1,'over'],[y,'V',x,x+1,'right'],[y+1,'V',x,x+1,'left']]\n",
        "        my_edges_y_side += to_app\n",
        "        for z in to_app:\n",
        "          my_edges_n_side.append(z[:-1])\n",
        "\n",
        "      unique = [e for e in my_edges_y_side if my_edges_n_side.count(e[:-1]) == 1]\n",
        "      unique.sort()\n",
        "      plane = unique[0][0]\n",
        "      dir = unique[0][1]\n",
        "      ord = unique[0][2]\n",
        "      side = unique[0][4]\n",
        "\n",
        "      num_fences = 0\n",
        "\n",
        "      for p in unique:\n",
        "        if (p[0] != plane) or (p[1] != dir) or (p[2] != (ord + 1)) or (p[4] != side):\n",
        "          num_fences += 1\n",
        "        plane = p[0]\n",
        "        dir = p[1]\n",
        "        ord = p[2]\n",
        "        side = p[4]\n",
        "\n",
        "      res_sum += len_group * num_fences\n",
        "\n",
        "  return res_sum\n"
      ],
      "metadata": {
        "id": "FjNH_mGrMMft"
      },
      "execution_count": null,
      "outputs": []
    },
    {
      "cell_type": "code",
      "source": [
        "dev_act_ans_2 = part_2(dev_data)\n",
        "if dev_act_ans_2 == dev_exp_ans_2:\n",
        "  print('correct answer! ' + str(dev_act_ans_2))\n",
        "else:\n",
        "  print('incorrect answer :( you said ' + str(dev_act_ans_2) + ' i want ' + str(dev_exp_ans_2))"
      ],
      "metadata": {
        "id": "sh7bRhKYHSeH"
      },
      "execution_count": null,
      "outputs": []
    },
    {
      "cell_type": "code",
      "source": [
        "test_act_ans_2 = part_2(test_data)\n",
        "if test_act_ans_2 == test_exp_ans_2:\n",
        "  print('correct answer! ' + str(test_act_ans_2))\n",
        "else:\n",
        "  print('incorrect answer :( you said ' + str(test_act_ans_2) + ' i want ' + str(test_exp_ans_2))"
      ],
      "metadata": {
        "id": "DrqNCKmoI7XZ"
      },
      "execution_count": null,
      "outputs": []
    },
    {
      "cell_type": "code",
      "source": [
        "part_2(prod_data)"
      ],
      "metadata": {
        "id": "84gqkEBBI9qg"
      },
      "execution_count": null,
      "outputs": []
    }
  ]
}