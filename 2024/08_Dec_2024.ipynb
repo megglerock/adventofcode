{
  "nbformat": 4,
  "nbformat_minor": 0,
  "metadata": {
    "colab": {
      "provenance": [],
      "authorship_tag": "ABX9TyPhzUvYiD/mVt0S6IR64aBR"
    },
    "kernelspec": {
      "name": "python3",
      "display_name": "Python 3"
    },
    "language_info": {
      "name": "python"
    }
  },
  "cells": [
    {
      "cell_type": "code",
      "execution_count": null,
      "metadata": {
        "id": "x9iGoDngrMvK"
      },
      "outputs": [],
      "source": [
        "# import data\n",
        "with open('/content/08_prod.txt') as f:\n",
        "    prod_data = [list(line.strip('\\n')) for line in f]\n",
        "with open('/content/08_test.txt') as f:\n",
        "    test_data = [list(line.strip('\\n')) for line in f]"
      ]
    },
    {
      "cell_type": "markdown",
      "source": [
        "Part 1"
      ],
      "metadata": {
        "id": "jLsWc22YtB9X"
      }
    },
    {
      "cell_type": "code",
      "source": [
        "def get_unique_chars(input_data):\n",
        "  out_set = set(input_data[0])\n",
        "  for a in input_data[:-1]:\n",
        "    add_set = a.copy()\n",
        "    out_set.update(set(add_set))\n",
        "  return out_set\n",
        "\n",
        "\n",
        "def get_antinodes(input_data,input_chars):\n",
        "\n",
        "  antinode_list = []\n",
        "  # run through all characters\n",
        "  for c in input_chars:\n",
        "\n",
        "    # get all positions of character\n",
        "    my_positions = []\n",
        "    for i in range(len(input_data)):\n",
        "      for j in range(len(input_data[i])):\n",
        "        if c == input_data[i][j]:\n",
        "          my_positions.append([i,j])\n",
        "\n",
        "    # loop through each position and add antinodes to main list\n",
        "    for a in my_positions:\n",
        "      other_pos = my_positions.copy()\n",
        "      other_pos.remove(a)\n",
        "      for v in other_pos:\n",
        "        diff_x = a[0] - v[0]\n",
        "        diff_y = a[1] - v[1]\n",
        "        if a[1] <= v[1]:\n",
        "          antinode_list.append([v[0]-diff_x,v[1]-diff_y])\n",
        "          antinode_list.append([a[0]+diff_x,a[1]+diff_y])\n",
        "\n",
        "  return antinode_list\n",
        "\n",
        "\n",
        "def valid_antinodes(input_data,antinode_list):\n",
        "\n",
        "  dist_list = []\n",
        "\n",
        "  row_range = range(0,len(input_data))\n",
        "  col_range = range(0,len(input_data[0]))\n",
        "\n",
        "  for j in antinode_list:\n",
        "    if j[0] in row_range and j[1] in col_range and j not in dist_list:\n",
        "      dist_list.append(j)\n",
        "\n",
        "  return dist_list\n",
        "\n",
        "\n",
        "def part_1(input_data):\n",
        "\n",
        "  my_chars = get_unique_chars(input_data)\n",
        "  my_chars.remove('.')\n",
        "  all_antinodes = get_antinodes(input_data,my_chars)\n",
        "  my_antinodes = valid_antinodes(input_data,all_antinodes)\n",
        "\n",
        "  return len(my_antinodes)"
      ],
      "metadata": {
        "id": "Fv-5zmddwLtj"
      },
      "execution_count": null,
      "outputs": []
    },
    {
      "cell_type": "code",
      "source": [
        "test_answer_1 = part_1(test_data)\n",
        "if test_answer_1 == 14:\n",
        "  print('Correct answer! ' + str(test_answer_1))\n",
        "else:\n",
        "  print('Incorrect answer :( ' + str(test_answer_1))"
      ],
      "metadata": {
        "id": "JxVUYZFJ7z9Z"
      },
      "execution_count": null,
      "outputs": []
    },
    {
      "cell_type": "code",
      "source": [
        "part_1(prod_data)"
      ],
      "metadata": {
        "id": "GjUXoWT_-M1N"
      },
      "execution_count": null,
      "outputs": []
    },
    {
      "cell_type": "markdown",
      "source": [
        "Part 2"
      ],
      "metadata": {
        "id": "tRrAkgIu-zHp"
      }
    },
    {
      "cell_type": "code",
      "source": [
        "def get_positions_pt2(input_data,input_chars):\n",
        "\n",
        "  out_positions = []\n",
        "\n",
        "  # run through all characters\n",
        "  for c in input_chars:\n",
        "\n",
        "    # get all positions of character\n",
        "    app_positions = []\n",
        "    for i in range(len(input_data)):\n",
        "      for j in range(len(input_data[i])):\n",
        "        if c == input_data[i][j]:\n",
        "          app_positions.append([i,j])\n",
        "\n",
        "    out_positions.append([c,app_positions])\n",
        "\n",
        "  return out_positions\n",
        "\n",
        "#####################################################################\n",
        "\n",
        "def get_antinodes_pt2(input_data,input_chars,input_positions):\n",
        "\n",
        "  antinode_list = []\n",
        "\n",
        "  row_range = range(0,len(input_data))\n",
        "  col_range = range(0,len(input_data[0]))\n",
        "\n",
        "  # run through all characters\n",
        "  for c in input_chars:\n",
        "\n",
        "    # get all positions of character\n",
        "    for i in input_positions:\n",
        "      if i[0] == c:\n",
        "        use_positions = i[1]\n",
        "\n",
        "    # loop through each position and add antinodes to main list\n",
        "    for a in use_positions:\n",
        "      other_pos = use_positions.copy()\n",
        "      other_pos.remove(a)\n",
        "      for v in other_pos:\n",
        "        diff_x = a[0] - v[0]\n",
        "        diff_y = a[1] - v[1]\n",
        "        if a[1] <= v[1]:\n",
        "          # go backwards\n",
        "          f = v[0] - diff_x\n",
        "          g = v[1] - diff_y\n",
        "          while f in row_range and g in col_range:\n",
        "            antinode_list.append([f,g])\n",
        "            f = f - diff_x\n",
        "            g = g - diff_y\n",
        "          # go forwards\n",
        "          m = v[0] + diff_x\n",
        "          n = v[1] + diff_y\n",
        "          while m in row_range and n in col_range:\n",
        "            antinode_list.append([m,n])\n",
        "            m = m + diff_x\n",
        "            n = n + diff_y\n",
        "\n",
        "  return antinode_list\n",
        "\n",
        "#####################################################################\n",
        "\n",
        "def valid_antinodes_pt2(input_data,input_antinodes,input_positions):\n",
        "\n",
        "  dist_list = []\n",
        "\n",
        "  row_range = range(0,len(input_data))\n",
        "  col_range = range(0,len(input_data[0]))\n",
        "\n",
        "  list_all = input_antinodes.copy()\n",
        "\n",
        "  # get all positions of character\n",
        "  for i in input_positions:\n",
        "    list_all += i[1]\n",
        "\n",
        "  for j in list_all:\n",
        "    if j[0] in row_range and j[1] in col_range and j not in dist_list:\n",
        "      dist_list.append(j)\n",
        "\n",
        "  return dist_list\n",
        "\n",
        "#####################################################################\n",
        "\n",
        "def part_2(input_data):\n",
        "\n",
        "  my_chars = get_unique_chars(input_data)\n",
        "  my_chars.remove('.')\n",
        "  my_positions = get_positions_pt2(input_data,my_chars)\n",
        "  all_antinodes = get_antinodes_pt2(input_data,my_chars,my_positions)\n",
        "  my_antinodes = valid_antinodes_pt2(input_data,all_antinodes,my_positions)\n",
        "\n",
        "  return len(my_antinodes)"
      ],
      "metadata": {
        "id": "qwkBB_u7-0su"
      },
      "execution_count": null,
      "outputs": []
    },
    {
      "cell_type": "code",
      "source": [
        "test_answer_2 = part_2(test_data)\n",
        "if test_answer_2 == 34:\n",
        "  print('Correct answer! ' + str(test_answer_2))\n",
        "else:\n",
        "  print('Incorrect answer :( ' + str(test_answer_2))"
      ],
      "metadata": {
        "id": "pC2F6m9f_GHK"
      },
      "execution_count": null,
      "outputs": []
    },
    {
      "cell_type": "code",
      "source": [
        "part_2(prod_data)"
      ],
      "metadata": {
        "id": "BaAWJCax_Nxt"
      },
      "execution_count": null,
      "outputs": []
    }
  ]
}