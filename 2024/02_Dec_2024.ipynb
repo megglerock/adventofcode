{
  "nbformat": 4,
  "nbformat_minor": 0,
  "metadata": {
    "colab": {
      "provenance": [],
      "authorship_tag": "ABX9TyPSMwSUIH8DGk3kq4RL+Ar4"
    },
    "kernelspec": {
      "name": "python3",
      "display_name": "Python 3"
    },
    "language_info": {
      "name": "python"
    }
  },
  "cells": [
    {
      "cell_type": "code",
      "source": [
        "import csv\n",
        "input_list = []\n",
        "with open('/content/2024-12-02.txt', mode ='r') as file:\n",
        "       csvFile = csv.reader(file)\n",
        "       for lines in csvFile:\n",
        "            input_list.append(lines)"
      ],
      "metadata": {
        "id": "5_FyOgV7_GzF"
      },
      "execution_count": null,
      "outputs": []
    },
    {
      "cell_type": "code",
      "source": [
        "input_list"
      ],
      "metadata": {
        "id": "cMc5HIs3Cxc3"
      },
      "execution_count": null,
      "outputs": []
    },
    {
      "cell_type": "code",
      "source": [
        "to_app_inner = []\n",
        "for b in range(len(input_list[0])-1):\n",
        "  c = int(b) + 1\n",
        "  diff = int(input_list[0][c]) - int(input_list[0][b])\n",
        "  to_app_inner.append(diff)"
      ],
      "metadata": {
        "id": "mBGGG-AnDBUx"
      },
      "execution_count": null,
      "outputs": []
    },
    {
      "cell_type": "code",
      "source": [
        "to_app_outer = []\n",
        "for a in range(len(input_list)):\n",
        "  to_app_inner = []\n",
        "  for b in range(len(input_list[a])-1):\n",
        "    c = int(b) + 1\n",
        "    diff = int(input_list[a][c]) - int(input_list[a][b])\n",
        "    to_app_inner.append(diff)\n",
        "  to_app_outer.append(to_app_inner)"
      ],
      "metadata": {
        "id": "WbaVNlc-E1Ts"
      },
      "execution_count": null,
      "outputs": []
    },
    {
      "cell_type": "code",
      "source": [
        "to_app_outer"
      ],
      "metadata": {
        "id": "Ioi8kb1KEg3E"
      },
      "execution_count": null,
      "outputs": []
    },
    {
      "cell_type": "code",
      "source": [
        "# at least 1 at most 3"
      ],
      "metadata": {
        "id": "M4KGyfc3Gbe-"
      },
      "execution_count": null,
      "outputs": []
    },
    {
      "cell_type": "code",
      "source": [
        "out_cond_1 = []\n",
        "for a in to_app_outer:\n",
        "  cond_1_res = True\n",
        "  for b in a:\n",
        "    if abs(b) < 1 or abs(b) > 3:\n",
        "      cond_1_res = False\n",
        "  if cond_1_res == True:\n",
        "    out_cond_1.append(a)\n",
        "# out_cond_1"
      ],
      "metadata": {
        "id": "dLvpzFqfGj5u"
      },
      "execution_count": null,
      "outputs": []
    },
    {
      "cell_type": "code",
      "source": [
        "out_cond_2 = []\n",
        "for a in out_cond_1:\n",
        "  count_pos = 0\n",
        "  count_neg = 0\n",
        "  for b in a:\n",
        "    if b > 0:\n",
        "      count_pos = count_pos + 1\n",
        "    if b < 0:\n",
        "      count_neg = count_neg + 1\n",
        "  if min(count_pos,count_neg) == 0:\n",
        "    out_cond_2.append(a)\n",
        "# out_cond_2"
      ],
      "metadata": {
        "id": "qEASoqvEHqBx"
      },
      "execution_count": null,
      "outputs": []
    },
    {
      "cell_type": "code",
      "source": [
        "len(out_cond_2)"
      ],
      "metadata": {
        "id": "qthRhhK6Jbpy"
      },
      "execution_count": null,
      "outputs": []
    },
    {
      "cell_type": "markdown",
      "source": [
        "Part 2"
      ],
      "metadata": {
        "id": "s1NxaNRiNYdi"
      }
    },
    {
      "cell_type": "code",
      "source": [
        "import csv\n",
        "input_list = []\n",
        "with open('/content/2024-12-02.txt', mode ='r') as file:\n",
        "       csvFile = csv.reader(file)\n",
        "       for lines in csvFile:\n",
        "            input_list.append(lines)"
      ],
      "metadata": {
        "id": "5pSjvWNVNZOr"
      },
      "execution_count": null,
      "outputs": []
    },
    {
      "cell_type": "code",
      "source": [
        "input_list[0]"
      ],
      "metadata": {
        "id": "HxaCXOvw_pT5"
      },
      "execution_count": null,
      "outputs": []
    },
    {
      "cell_type": "code",
      "source": [
        "pos_outer = []\n",
        "for a in range(len(input_list)):\n",
        "  pos_inner = []\n",
        "  n = input_list[a].copy()\n",
        "  pos_inner.append(n)\n",
        "  for b in range(len(input_list[a])):\n",
        "    m = []\n",
        "    m = n.copy()\n",
        "    m.pop(b)\n",
        "    pos_inner.append(m)\n",
        "  pos_outer.append(pos_inner)"
      ],
      "metadata": {
        "id": "7rVAt4uhtZHm"
      },
      "execution_count": null,
      "outputs": []
    },
    {
      "cell_type": "code",
      "source": [
        "pos_outer"
      ],
      "metadata": {
        "id": "oEk7J5ceBkfU"
      },
      "execution_count": null,
      "outputs": []
    },
    {
      "cell_type": "code",
      "source": [
        "to_app_outer = []\n",
        "for a in range(len(pos_outer)):\n",
        "  to_app_middle = []\n",
        "  for x in range(len(pos_outer[a])):\n",
        "    to_app_inner = []\n",
        "    for b in range(len(pos_outer[a][x])-1):\n",
        "      c = int(b) + 1\n",
        "      diff = int(pos_outer[a][x][c]) - int(pos_outer[a][x][b])\n",
        "      to_app_inner.append(diff)\n",
        "    to_app_middle.append(to_app_inner)\n",
        "  to_app_outer.append(to_app_middle)"
      ],
      "metadata": {
        "id": "gBYAyFj9Nc7P"
      },
      "execution_count": null,
      "outputs": []
    },
    {
      "cell_type": "code",
      "source": [
        "to_app_outer"
      ],
      "metadata": {
        "collapsed": true,
        "id": "gdQpwkbLOcvH"
      },
      "execution_count": null,
      "outputs": []
    },
    {
      "cell_type": "code",
      "source": [
        "out_cond = []\n",
        "for a in to_app_outer:\n",
        "  inner_cond = []\n",
        "  for x in a:\n",
        "    cond_res = True\n",
        "    count_pos = 0\n",
        "    count_neg = 0\n",
        "    for b in x:\n",
        "      if abs(b) < 1 or abs(b) > 3:\n",
        "        cond_res = False\n",
        "      if b > 0:\n",
        "        count_pos = count_pos + 1\n",
        "      if b < 0:\n",
        "        count_neg = count_neg + 1\n",
        "    if min(count_pos,count_neg) > 0:\n",
        "      cond_res = False\n",
        "    if cond_res == True:\n",
        "      inner_cond.append(x)\n",
        "  out_cond.append(inner_cond)"
      ],
      "metadata": {
        "id": "DecLqAq8NeWy"
      },
      "execution_count": null,
      "outputs": []
    },
    {
      "cell_type": "code",
      "source": [
        "out_cond"
      ],
      "metadata": {
        "id": "XMbLKTTXOgMZ"
      },
      "execution_count": null,
      "outputs": []
    },
    {
      "cell_type": "code",
      "source": [
        "n_safe = 0\n",
        "for i in out_cond:\n",
        "  if len(i) > 0:\n",
        "    n_safe = n_safe + 1\n",
        "print(n_safe)"
      ],
      "metadata": {
        "id": "AHL5QPw_Nfmc"
      },
      "execution_count": null,
      "outputs": []
    }
  ]
}